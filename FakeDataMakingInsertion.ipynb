{
 "cells": [
  {
   "cell_type": "code",
   "execution_count": 2,
   "id": "c677c74c",
   "metadata": {},
   "outputs": [],
   "source": [
    "import random\n",
    "\n"
   ]
  },
  {
   "cell_type": "code",
   "execution_count": 3,
   "id": "95293ec2",
   "metadata": {},
   "outputs": [],
   "source": [
    "from faker import Faker\n"
   ]
  },
  {
   "cell_type": "code",
   "execution_count": 5,
   "id": "2c9cd1c5",
   "metadata": {},
   "outputs": [],
   "source": [
    "import pymysql\n"
   ]
  },
  {
   "cell_type": "code",
   "execution_count": 6,
   "id": "b0768d1d",
   "metadata": {},
   "outputs": [],
   "source": [
    "fake = Faker()"
   ]
  },
  {
   "cell_type": "code",
   "execution_count": 14,
   "id": "e6bdf226",
   "metadata": {
    "scrolled": false
   },
   "outputs": [],
   "source": [
    "config = {\n",
    "    'host': '127.0.0.1',\n",
    "    'user': 'root',\n",
    "    'password': 'Cosmopolitan1%',\n",
    "    'db': 'martian_database',  # Use 'db' for pymysql, not 'database'\n",
    "    'charset': 'utf8mb4',\n",
    "    'cursorclass': pymysql.cursors.DictCursor,\n",
    "    'connect_timeout': 120  # Correct key name is 'connect_timeout'\n",
    "}\n",
    "\n"
   ]
  },
  {
   "cell_type": "code",
   "execution_count": 15,
   "id": "15cddbfd",
   "metadata": {},
   "outputs": [],
   "source": [
    "conn = pymysql.connect(**config)\n",
    "cursor = conn.cursor()"
   ]
  },
  {
   "cell_type": "code",
   "execution_count": 16,
   "id": "c1c00fe7",
   "metadata": {},
   "outputs": [],
   "source": [
    "for _ in range(1000):\n",
    "    first_name = fake.first_name()\n",
    "    middle_name = fake.first_name()\n",
    "    last_name = fake.last_name()\n",
    "    martian_id = fake.unique.bothify(text='###########')  # Generates a random 11 character string\n",
    "    birth_date = fake.date_of_birth(minimum_age=18, maximum_age=60).isoformat()\n",
    "    martian_address = fake.address().replace('\\n', ', ')[:30]  # Truncated to fit 30 chars limit\n",
    "    sex = random.choice(['M', 'F'])\n",
    "    martian_salary = round(random.uniform(30000, 100000), 2)\n",
    "    sector_commander_id = fake.bothify(text='#########')  # Generates a random 9 character string\n",
    "    sector_number = random.randint(1, 100)  # Assuming sector numbers are integers between 1 and 100\n",
    "    mars_arrival_date = fake.date_between(start_date=\"-10y\", end_date=\"today\").isoformat()  # Random date in the past 10 years\n",
    "    criminal_records_nature = fake.sentence(nb_words=5)[:32]  # Random sentence, truncated to 32 chars\n",
    "\n",
    "    insert_query = \"\"\"\n",
    "    INSERT INTO Martian_Workers \n",
    "    (FirstName, MiddleName, Lastname, MartianID, BirthDate, MartianAddress, Sex, MartianSalary, SectorCommanderID, SectorNumber, Mars_Arrival_Date, Criminal_Records_Nature)\n",
    "    VALUES (%s, %s, %s, %s, %s, %s, %s, %s, %s, %s, %s, %s)\n",
    "    \"\"\"\n",
    "    values = (first_name, middle_name, last_name, martian_id, birth_date, martian_address, sex, martian_salary, sector_commander_id, sector_number, mars_arrival_date, criminal_records_nature)\n",
    "\n",
    "    cursor.execute(insert_query, values)\n"
   ]
  },
  {
   "cell_type": "code",
   "execution_count": 17,
   "id": "cf60aa90",
   "metadata": {},
   "outputs": [
    {
     "name": "stdout",
     "output_type": "stream",
     "text": [
      "Data insertion complete.\n"
     ]
    }
   ],
   "source": [
    "conn.commit()\n",
    "cursor.close()\n",
    "conn.close()\n",
    "\n",
    "print(\"Data insertion complete.\")"
   ]
  },
  {
   "cell_type": "code",
   "execution_count": null,
   "id": "617b4568",
   "metadata": {},
   "outputs": [],
   "source": []
  }
 ],
 "metadata": {
  "kernelspec": {
   "display_name": "Python 3 (ipykernel)",
   "language": "python",
   "name": "python3"
  },
  "language_info": {
   "codemirror_mode": {
    "name": "ipython",
    "version": 3
   },
   "file_extension": ".py",
   "mimetype": "text/x-python",
   "name": "python",
   "nbconvert_exporter": "python",
   "pygments_lexer": "ipython3",
   "version": "3.11.4"
  }
 },
 "nbformat": 4,
 "nbformat_minor": 5
}
